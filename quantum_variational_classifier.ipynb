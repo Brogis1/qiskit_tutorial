{
 "cells": [
  {
   "cell_type": "markdown",
   "metadata": {
    "collapsed": true
   },
   "source": [
    "# Quantum Variational Classifier\n",
    "\n",
    "This tutorial discusses how a quantum computer can be used to solve a classification task.<br>\n",
    "The example is based on the following paper:\n",
    "<br>\n",
    "<br>\n",
    "<b>Supervised learning with quantum enhanced feature spaces</b><br>\n",
    "Vojtech Havlicek, Antonio D. Corcoles, Kristan Temme, Aram W. Harrow, Abhinav  Kandala, Jerry M. Chow, and Jay  M. Gambetta<br>\n",
    "<a href=\"https://arxiv.org/abs/1804.11326\">arXiv:1804.11326 (2018)</a>"
   ]
  },
  {
   "cell_type": "code",
   "execution_count": 5,
   "metadata": {},
   "outputs": [],
   "source": [
    "from svm.datasets import *\n",
    "from qiskit.aqua.input import ClassificationInput\n",
    "from qiskit.aqua import run_algorithm\n",
    "from qiskit import QuantumRegister, ClassicalRegister, QuantumCircuit\n",
    "from qiskit import BasicAer, execute\n",
    "from qiskit.aqua.components.optimizers.spsa import SPSA\n",
    "import numpy as np\n",
    "import matplotlib.pyplot as plt\n",
    "%matplotlib inline\n",
    "\n"
   ]
  },
  {
   "cell_type": "markdown",
   "metadata": {},
   "source": [
    "## Data\n",
    "\n",
    "Before we can train the Quantum Variational Classifier, we have to load the data set that we are interested in and split it into a training and a test set.\n",
    "<br>\n",
    "Note that the ad hoc data set is constructed suitably for the purpose of illustration.\n",
    "<br>\n",
    "<br>\n",
    "<b>Exercise:</b><br>\n",
    "Feel free to train and test the classifier with the alternatively given training data set:<br>\n",
    "<a href=\"https://archive.ics.uci.edu/ml/datasets/wine\">UCI Machine Learning Repository - Wine Data Set</a><br>\n",
    "To switch between the data sets set the <b>use_adhoc_dataset</b> to True or False."
   ]
  },
  {
   "cell_type": "code",
   "execution_count": 2,
   "metadata": {},
   "outputs": [
    {
     "data": {
      "image/png": "[encoded data removed]",
      "text/plain": [
       "<Figure size 432x288 with 1 Axes>"
      ]
     },
     "metadata": {
      "needs_background": "light"
     },
     "output_type": "display_data"
    },
    {
     "data": {
      "image/png": "[encoded data removed]",
      "text/plain": [
       "<Figure size 432x288 with 1 Axes>"
      ]
     },
     "metadata": {
      "needs_background": "light"
     },
     "output_type": "display_data"
    }
   ],
   "source": [
    "# size of training data set\n",
    "training_size = 20\n",
    "\n",
    "# size of test data set\n",
    "test_size = 10\n",
    "\n",
    "# dimension of data sets\n",
    "n = 2\n",
    "\n",
    "# construct training and test data\n",
    "# set the following flag to True for the first data set and to False for the second dataset\n",
    "use_adhoc_dataset = True\n",
    "if use_adhoc_dataset:\n",
    "    # first (artifical) data set to test the classifier\n",
    "    training_input, test_input, class_labels = \\\n",
    "            ad_hoc_data(training_size=training_size, test_size=test_size, n=n, gap=0.3, plot_data=True)\n",
    "else:\n",
    "    # second data set to test the classifier\n",
    "    training_input, test_input, class_labels = \\\n",
    "            Wine(training_size=training_size, test_size=test_size, n=n, plot_data=True)\n"
   ]
  },
  {
   "cell_type": "markdown",
   "metadata": {},
   "source": [
    "## Quantum Feature Map\n",
    "\n",
    "The Quantum Feature Map $\\cal{U}_{\\Phi(\\vec{x})}$ is a quantum circuit parametrized by a classical input datapoint $\\vec{x}$.\n",
    "Thus, $\\cal{U}$ maps $\\vec{x}$ to the quantum feature space whose dimension is exponential in the number of qubits.\n",
    "In this tutorial we use the following quantum feature map:\n",
    "<img src=\"svm/feature_map.png\">\n",
    "<br>\n",
    "where\n",
    "### $$U_{\\Phi(\\vec{x})} = e^{i\\left(x_1 Z \\otimes I + x_2 I \\otimes Z + x_1x_2Z \\otimes Z \\right)}$$\n",
    "\n",
    "The classical data sample $\\vec{x}$ is loaded by applying the Quantum Feature Map onto the initial quantum state $|0{\\rangle}^{\\otimes n}$:\n",
    "### $$|\\phi(\\vec{x})\\rangle = \\cal{U}_{\\Phi(\\vec{x})}|0{\\rangle}^{\\otimes n}$$\n",
    "\n"
   ]
  },
  {
   "cell_type": "code",
   "execution_count": 3,
   "metadata": {},
   "outputs": [],
   "source": [
    "def feature_map(x, q):\n",
    "    \n",
    "    # initialize quantum circuit\n",
    "    qc = QuantumCircuit(q)\n",
    "    \n",
    "    # apply hadamards and U_Phi twice\n",
    "    for _ in range(2):\n",
    "        \n",
    "        # apply the hadamard and Z-rotatiion to all qubits\n",
    "        for i in range(x.shape[0]):\n",
    "            qc.h(q[i])\n",
    "            qc.rz(2 * x[i], q[i])\n",
    "        \n",
    "        # apply the two qubit gate\n",
    "        qc.cx(q[0], q[1])\n",
    "        qc.rz(2*(np.pi-x[0])*(np.pi-x[1]), q[1])\n",
    "        qc.cx(q[0], q[1])\n",
    "\n",
    "    # return quantum circuit\n",
    "    return qc"
   ]
  },
  {
   "cell_type": "markdown",
   "metadata": {},
   "source": [
    "We can now use a classical vector, for instance $\\begin{pmatrix} 1.5 \\\\ 0.3 \\end{pmatrix}$ to apply the quantum feature map onto the quantum state $|0{\\rangle}^{\\otimes 2}$, analyze the resulting statevector and plot the corresponding quantum circuit."
   ]
  },
  {
   "cell_type": "code",
   "execution_count": 9,
   "metadata": {},
   "outputs": [
    {
     "name": "stdout",
     "output_type": "stream",
     "text": [
      "simulation:  Result(backend_name='statevector_simulator', backend_version='1.0.0', header=Obj(backend_name='statevector_simulator', backend_version='1.0.0'), job_id='d7ab1d4d-b762-4ced-a614-2c44dadc0835', qobj_id='ddba8917-f54c-49ed-81f1-b6dbdbb22551', results=[ExperimentResult(data=ExperimentResultData(statevector=[(0.04999799188765164-0.2901871929967058j), (0.023359416632460973+0.04416736057920966j), (-0.7357557507445128-0.6039081802139161j), (0.02904633440750297-0.06252896382105108j)]), header=Obj(clbit_labels=[], creg_sizes=[], memory_slots=0, n_qubits=2, name='circuit3', qreg_sizes=[['q2', 2]], qubit_labels=[['q2', 0], ['q2', 1]]), meas_level=2, name='circuit3', seed_simulator=2053036940, shots=1, status='DONE', success=True, time_taken=0.0009453296661376953)], status='COMPLETED', success=True, time_taken=0.0010061264038085938)\n",
      "statevector:  [ 0.05  -0.2902j  0.0234+0.0442j -0.7358-0.6039j  0.029 -0.0625j]\n"
     ]
    }
   ],
   "source": [
    "# initialize quantum register\n",
    "num_qubits = 2\n",
    "qr = QuantumRegister(num_qubits)\n",
    "\n",
    "# initialize test data (x1, x2)\n",
    "data = np.asarray([1.5, 0.3])\n",
    "\n",
    "# get quantum circuit\n",
    "qc_feature_map = feature_map(data, qr)\n",
    "# simulate using local statevector simulator\n",
    "backend = BasicAer.get_backend('statevector_simulator')\n",
    "\n",
    "job_sim = execute(qc_feature_map, backend)\n",
    "sim_results = job_sim.result()\n",
    "print('simulation: ', sim_results)\n",
    "print('statevector: ', np.round(sim_results.get_statevector(), decimals=4))"
   ]
  },
  {
   "cell_type": "code",
   "execution_count": 10,
   "metadata": {},
   "outputs": [
    {
     "data": {
      "image/png": "[encoded data removed]",
      "text/plain": [
       "<Figure size 769.356x144.48 with 1 Axes>"
      ]
     },
     "execution_count": 10,
     "metadata": {},
     "output_type": "execute_result"
    }
   ],
   "source": [
    "# draw circuit\n",
    "qc_feature_map.draw(output='mpl', plot_barriers=False)"
   ]
  },
  {
   "cell_type": "markdown",
   "metadata": {},
   "source": [
    "## Variational Form\n",
    "\n",
    "The variational form is similar to an artifical neural network:\n",
    "<br>\n",
    "The quantum circuit receives input data, processes it through multiple layers of  parametrized quantum gates and is trained by adjusting the parameters (weights).\n",
    "<br>\n",
    "It should be noted that in order to optimize the parameters, the outcome of the Quantum Variational Circuit must be measured. The measurement outcome corresponds to classical bits which can be integrated in an optimization algorithm, such as gradient descent. \n",
    "<br>\n",
    "<br>\n",
    "In this tutorial we use the following Variational Form:\n",
    "<br>\n",
    "<img src=\"svm/variational_form.png\">\n",
    "<br>\n",
    "The single qubit rotations denoted by $\\theta_{i,j}$ correspond to Z-rotations and Y-rotations and the entangler block $U_{ent}$ consists of controlled-Z gates.\n",
    "Further, the parameter $d$ denotes the depth of the Variational Circuit, i.e. the number of repitions of entangler blocks and single qubit rotation layers.\n",
    "<br>\n",
    "<br>\n",
    "<b>Exercise:</b><br>\n",
    "See how the classification performance changes when you modify the types of gates used within the quantum circuit."
   ]
  },
  {
   "cell_type": "code",
   "execution_count": 11,
   "metadata": {},
   "outputs": [],
   "source": [
    "def variational_form(q, params, depth):\n",
    "    \n",
    "    # initialize quantum circuit\n",
    "    qc = QuantumCircuit(q)\n",
    "    \n",
    "    # first set of rotations\n",
    "    param_idx = 0\n",
    "    for qubit in range(2):\n",
    "        qc.ry(params[param_idx], q[qubit])\n",
    "        qc.rz(params[param_idx+1], q[qubit])\n",
    "        param_idx += 2\n",
    "\n",
    "    # entangler blocks and succeeding rotations\n",
    "    for block in range(depth):\n",
    "        qc.cz(q[0], q[1])\n",
    "        for qubit in range(2):\n",
    "            qc.ry(params[param_idx], q[qubit])\n",
    "            qc.rz(params[param_idx+1], q[qubit])\n",
    "            param_idx += 2\n",
    "    \n",
    "    # return quantum circuit\n",
    "    return qc"
   ]
  },
  {
   "cell_type": "code",
   "execution_count": 12,
   "metadata": {},
   "outputs": [
    {
     "name": "stdout",
     "output_type": "stream",
     "text": [
      "simulation:  Result(backend_name='statevector_simulator', backend_version='1.0.0', header=Obj(backend_name='statevector_simulator', backend_version='1.0.0'), job_id='f159ee1d-f335-41fc-b624-fabadd8b730c', qobj_id='4c05ba5a-2f21-41ea-a9b9-ab2e8cf68e7a', results=[ExperimentResult(data=ExperimentResultData(statevector=[(0.6826942629255568-0.22317768515793646j), (0.3576419826068694-0.5448858090076378j), (0.15220920947977612+0.18371736894896867j), (0.0489094106875152-0.0002933895112872259j)]), header=Obj(clbit_labels=[], creg_sizes=[], memory_slots=0, n_qubits=2, name='circuit5', qreg_sizes=[['q3', 2]], qubit_labels=[['q3', 0], ['q3', 1]]), meas_level=2, name='circuit5', seed_simulator=1512373328, shots=1, status='DONE', success=True, time_taken=0.001050710678100586)], status='COMPLETED', success=True, time_taken=0.0011110305786132812)\n",
      "statevector:  [0.6827-2.232e-01j 0.3576-5.449e-01j 0.1522+1.837e-01j 0.0489-3.000e-04j]\n"
     ]
    },
    {
     "data": {
      "image/png": "[encoded data removed]",
      "text/plain": [
       "<Figure size 648.956x144.48 with 1 Axes>"
      ]
     },
     "execution_count": 12,
     "metadata": {},
     "output_type": "execute_result"
    }
   ],
   "source": [
    "# initialize quantum register\n",
    "num_qubits = 2\n",
    "qr = QuantumRegister(num_qubits)\n",
    "\n",
    "# set depth, i.e. number of entangler blocks and rotations (after the initial rotation)\n",
    "depth = 2\n",
    "params = [0.5,-0.3, 0.2, 0.6]*(depth+1)\n",
    "qc_variational_form = variational_form(qr, params, depth)\n",
    "\n",
    "# simulate using local statevector simulator\n",
    "job_sim = execute(qc_variational_form, backend)\n",
    "sim_results = job_sim.result()\n",
    "print('simulation: ', sim_results)\n",
    "print('statevector: ', np.round(sim_results.get_statevector(), decimals=4))\n",
    "\n",
    "# draw circuit\n",
    "qc_variational_form.draw(output='mpl', plot_barriers=False)"
   ]
  },
  {
   "cell_type": "markdown",
   "metadata": {},
   "source": [
    "# The Quantum Variational Classifier\n",
    "\n",
    "Before we can combine the previously introduced components to the quantum variational classifier, we need to introduce some more helper functions."
   ]
  },
  {
   "cell_type": "markdown",
   "metadata": {},
   "source": [
    "#### 1.  Assign a label to the measurement outcome \n",
    "We use the parity function to assign a class label to the measurement outcomes which are given as bit strings. In explicit, a measurement consisting of an even number of '1's is mapped to the first class, and a measurement outcome consisting of an odd number of '1's is mapped to the second class."
   ]
  },
  {
   "cell_type": "code",
   "execution_count": 13,
   "metadata": {},
   "outputs": [],
   "source": [
    "def assign_label(bit_string, class_labels):\n",
    "    hamming_weight = sum([int(k) for k in list(bit_string)])\n",
    "    is_odd_parity = hamming_weight & 1\n",
    "    if is_odd_parity:\n",
    "        return class_labels[1]\n",
    "    else:\n",
    "        return class_labels[0]"
   ]
  },
  {
   "cell_type": "code",
   "execution_count": 14,
   "metadata": {},
   "outputs": [
    {
     "data": {
      "text/plain": [
       "'B'"
      ]
     },
     "execution_count": 14,
     "metadata": {},
     "output_type": "execute_result"
    }
   ],
   "source": [
    "# assigns a label \n",
    "assign_label('01', class_labels)"
   ]
  },
  {
   "cell_type": "markdown",
   "metadata": {},
   "source": [
    "#### 2. Map the counts of multiple shots to probabilities for the classes\n",
    "After running the same circuit many times, we derive the empirical probabilities of assigning the first or second class.\n"
   ]
  },
  {
   "cell_type": "code",
   "execution_count": 15,
   "metadata": {},
   "outputs": [],
   "source": [
    "def return_probabilities(counts, class_labels):\n",
    "    shots = sum(counts.values())\n",
    "    result = {class_labels[0]: 0, \n",
    "              class_labels[1]: 0}\n",
    "    for key, item in counts.items():\n",
    "        label = assign_label(key, class_labels)\n",
    "        result[label] += counts[key]/shots\n",
    "    return result"
   ]
  },
  {
   "cell_type": "code",
   "execution_count": 16,
   "metadata": {},
   "outputs": [
    {
     "data": {
      "text/plain": [
       "{'A': 0.5, 'B': 0.5}"
      ]
     },
     "execution_count": 16,
     "metadata": {},
     "output_type": "execute_result"
    }
   ],
   "source": [
    "return_probabilities({'00' : 10, '01': 10}, class_labels)"
   ]
  },
  {
   "cell_type": "markdown",
   "metadata": {},
   "source": [
    "#### 3. Combine everything to build the classifier\n",
    "We combine the feature map, the variational circuit, and the label assignment to construct our (untrained) classifier.\n",
    "<br>\n",
    "Note that the classifier is already constructed in such a way that it is able to process a list of data points."
   ]
  },
  {
   "cell_type": "code",
   "execution_count": 17,
   "metadata": {},
   "outputs": [],
   "source": [
    "def classifier_circuit(x, params, depth):\n",
    "    \n",
    "    q = QuantumRegister(2)\n",
    "    c = ClassicalRegister(2)    \n",
    "    qc = QuantumCircuit(q, c)\n",
    "\n",
    "    qc_feature_map = feature_map(x, q)\n",
    "    qc_variational_form = variational_form(q, params, depth)\n",
    "\n",
    "    qc += qc_feature_map\n",
    "    qc += qc_variational_form\n",
    "\n",
    "    qc.measure(q, c)\n",
    "    \n",
    "    return qc\n",
    "\n",
    "def classify(x_list, params, class_labels, depth=2, shots=100):\n",
    "    \n",
    "    qc_list = []\n",
    "    for x in x_list:\n",
    "        qc = classifier_circuit(x, params, depth)\n",
    "        qc_list += [qc]\n",
    "    qasm_backend = BasicAer.get_backend('qasm_simulator')    \n",
    "    jobs = execute(qc_list, qasm_backend, shots=shots)\n",
    "    \n",
    "    probs = []\n",
    "    for qc in qc_list:\n",
    "        counts = jobs.result().get_counts(qc)\n",
    "        prob = return_probabilities(counts, class_labels)\n",
    "        probs += [prob]\n",
    "            \n",
    "    return probs"
   ]
  },
  {
   "cell_type": "code",
   "execution_count": 18,
   "metadata": {},
   "outputs": [
    {
     "data": {
      "image/png": "[encoded data removed]",
      "text/plain": [
       "<Figure size 1371.36x204.68 with 1 Axes>"
      ]
     },
     "execution_count": 18,
     "metadata": {},
     "output_type": "execute_result"
    }
   ],
   "source": [
    "# draw classifier circuit\n",
    "qc = classifier_circuit(np.asarray([0.5, 0.5]), params, depth)\n",
    "\n",
    "\n",
    "# classify test data point (using random parameters constructed earlier)\n",
    "x = np.asarray([[0.5, 0.5]])\n",
    "classify(x, params, class_labels, depth)\n",
    "\n",
    "qc.draw(output='mpl', plot_barriers=False)"
   ]
  },
  {
   "cell_type": "markdown",
   "metadata": {},
   "source": [
    "#### 4. Assign a cost value to the estimation probabilities\n",
    "Given a training data point and the corresponding training class label, we can calculate a cost value which represents the probability of correct/false classification. \n",
    "<br>\n",
    "We only need a singificant bias towards the correct classification and, thus, use the sigmoid function to evaluate the cost value (error probability).<br>\n",
    "The function is close to zero if the probability of assigning the correct class is close to one, and close to one otherwise."
   ]
  },
  {
   "cell_type": "code",
   "execution_count": 19,
   "metadata": {},
   "outputs": [],
   "source": [
    "def cost_estimate_sigmoid(probs, expected_label):\n",
    "\n",
    "    p = probs.get(expected_label)\n",
    "    sig = None\n",
    "    if np.isclose(p, 0.0):\n",
    "        sig = 1\n",
    "    elif np.isclose(p, 1.0):\n",
    "        sig = 0\n",
    "    else:\n",
    "        denominator = np.sqrt(2*p*(1-p))\n",
    "        x = np.sqrt(200)*(0.5-p)/denominator\n",
    "        sig = 1/(1+np.exp(-x))\n",
    "\n",
    "    return sig"
   ]
  },
  {
   "cell_type": "code",
   "execution_count": 20,
   "metadata": {},
   "outputs": [
    {
     "data": {
      "image/png": "[encoded data removed]",
      "text/plain": [
       "<Figure size 432x288 with 1 Axes>"
      ]
     },
     "metadata": {
      "needs_background": "light"
     },
     "output_type": "display_data"
    }
   ],
   "source": [
    "x = np.linspace(0, 1, 20)\n",
    "y = [cost_estimate_sigmoid({'A': x_, 'B': 1-x_}, 'A') for x_ in x]\n",
    "plt.plot(x, y)\n",
    "plt.xlabel('Probability of assigning the correct class')\n",
    "plt.ylabel('Cost value')\n",
    "plt.show()"
   ]
  },
  {
   "cell_type": "markdown",
   "metadata": {},
   "source": [
    "#### 5. Evaluate the overall performance for the training set\n",
    "We compute the average cost value over all training data points and use this as the objective function to train our classifier."
   ]
  },
  {
   "cell_type": "code",
   "execution_count": 21,
   "metadata": {
    "scrolled": false
   },
   "outputs": [],
   "source": [
    "def cost_function(training_input, class_labels, params, depth=2, shots=100, print_value=False):\n",
    "    \n",
    "    # map training input to list of labels and list of samples\n",
    "    cost = 0\n",
    "    training_labels = []\n",
    "    training_samples = []\n",
    "    for label, samples in training_input.items():\n",
    "        for sample in samples:\n",
    "            training_labels += [label]\n",
    "            training_samples += [sample]\n",
    "        \n",
    "    # classify all samples\n",
    "    probs = classify(training_samples, params, class_labels, depth)\n",
    "    \n",
    "    # evaluate costs for all classified samples\n",
    "    for i, prob in enumerate(probs):\n",
    "        cost += cost_estimate_sigmoid(prob, training_labels[i])\n",
    "    cost /= len(training_samples)\n",
    "    \n",
    "    # print resulting objective function\n",
    "    if print_value:\n",
    "        print('%.4f' % cost)\n",
    "    \n",
    "    # return objective value\n",
    "    return cost"
   ]
  },
  {
   "cell_type": "code",
   "execution_count": 22,
   "metadata": {},
   "outputs": [
    {
     "data": {
      "text/plain": [
       "0.8902161330458769"
      ]
     },
     "execution_count": 22,
     "metadata": {},
     "output_type": "execute_result"
    }
   ],
   "source": [
    "cost_function(training_input, class_labels, params, depth)"
   ]
  },
  {
   "cell_type": "markdown",
   "metadata": {},
   "source": [
    "## Train the classifier\n",
    "\n",
    "Training the classifier corresponds to an optimization task. Explicitly, we want to minimize the cost value (sigmoid function) such that the classifier manages to properly label the given data.\n",
    "<br>\n",
    "<br>\n",
    "<b>Exercise:</b><br>\n",
    "See how the classification performance changes when you modify the depth of the variational form, the number of shots or number of trials.<br>\n",
    "What's the best that you can achieve for the adhoc data set and the Wine data set?"
   ]
  },
  {
   "cell_type": "code",
   "execution_count": 26,
   "metadata": {
    "scrolled": false
   },
   "outputs": [
    {
     "name": "stdout",
     "output_type": "stream",
     "text": [
      "0.5197\n",
      "0.5590\n",
      "0.5659\n",
      "0.5137\n",
      "0.5148\n",
      "0.5640\n",
      "0.5199\n",
      "0.5578\n",
      "0.5719\n",
      "0.5050\n",
      "0.5441\n",
      "0.5890\n",
      "0.4911\n",
      "0.4798\n",
      "0.6991\n",
      "0.6117\n",
      "0.5228\n",
      "0.5843\n",
      "0.5078\n",
      "0.3641\n",
      "0.5604\n",
      "0.6053\n",
      "0.5158\n",
      "0.5084\n",
      "0.4001\n",
      "0.4365\n",
      "0.6589\n",
      "0.6970\n",
      "0.5196\n",
      "0.5231\n",
      "0.5017\n",
      "0.5296\n",
      "0.1439\n",
      "0.2820\n",
      "0.2012\n",
      "0.1388\n",
      "0.3591\n",
      "0.4150\n",
      "0.5947\n",
      "0.6227\n",
      "0.5899\n",
      "0.5863\n",
      "0.5986\n",
      "0.6393\n",
      "0.5902\n",
      "0.5681\n",
      "0.4824\n",
      "0.4455\n",
      "0.4613\n",
      "0.3690\n",
      "0.5229\n",
      "0.4870\n",
      "0.6793\n",
      "0.5939\n",
      "0.5095\n",
      "0.5084\n",
      "0.4926\n",
      "0.5539\n",
      "0.7876\n",
      "0.8376\n",
      "0.6561\n",
      "\n",
      "opt_params: [15.97681785 -9.93765774  5.88693935 -4.00058801  2.26558529 17.35424892\n",
      " 27.36679925  6.45829265  0.47802188 14.66982921  8.07514435 11.24859879]\n",
      "opt_value:  0.6560543020645381\n"
     ]
    }
   ],
   "source": [
    "# set depth of variational form\n",
    "depth = 2\n",
    "\n",
    "# set number of shots to evaluate the classification circuit\n",
    "shots = 100\n",
    "\n",
    "# set number of iterations for the optimization algorithm\n",
    "# (SPSA evaluates the objective function twice per iteration)\n",
    "max_trials = 25\n",
    "\n",
    "# setup the optimizer\n",
    "\n",
    "optimizer = SPSA(max_trials=max_trials, c0=4.0)\n",
    "\n",
    "\n",
    "# define objective function for training\n",
    "objective_function = lambda params: cost_function(training_input, class_labels, params, depth, shots, print_value=True)\n",
    "\n",
    "# randomly initialize the parameters\n",
    "init_params = 2*np.pi*np.random.rand(num_qubits*(depth+1)*2)\n",
    "\n",
    "# train classifier\n",
    "opt_params, value, _ = optimizer.optimize(len(init_params), objective_function, initial_point=init_params)\n",
    "\n",
    "# print results\n",
    "print()\n",
    "print('opt_params:', opt_params)\n",
    "print('opt_value: ', value)"
   ]
  },
  {
   "cell_type": "markdown",
   "metadata": {},
   "source": [
    "## Test the trained classifier\n",
    "\n",
    "To check how well we could train the classifier, we evaluate the classification performance on the test data set."
   ]
  },
  {
   "cell_type": "code",
   "execution_count": 27,
   "metadata": {
    "scrolled": false
   },
   "outputs": [
    {
     "name": "stdout",
     "output_type": "stream",
     "text": [
      "----------------------------------------------------\n",
      "Data point:     [6.1575216  5.02654825]\n",
      "Label:          A\n",
      "Assigned:       A\n",
      "Probabilities:  {'A': 0.61, 'B': 0.39}\n",
      "Classification: CORRECT\n",
      "----------------------------------------------------\n",
      "Data point:     [3.01592895 4.46106157]\n",
      "Label:          A\n",
      "Assigned:       A\n",
      "Probabilities:  {'A': 0.66, 'B': 0.33999999999999997}\n",
      "Classification: CORRECT\n",
      "----------------------------------------------------\n",
      "Data point:     [3.76991118 1.57079633]\n",
      "Label:          A\n",
      "Assigned:       B\n",
      "Probabilities:  {'A': 0.29000000000000004, 'B': 0.71}\n",
      "Classification: INCORRECT\n",
      "----------------------------------------------------\n",
      "Data point:     [2.32477856 3.01592895]\n",
      "Label:          A\n",
      "Assigned:       B\n",
      "Probabilities:  {'A': 0.16, 'B': 0.84}\n",
      "Classification: INCORRECT\n",
      "----------------------------------------------------\n",
      "Data point:     [4.90088454 5.71769863]\n",
      "Label:          A\n",
      "Assigned:       A\n",
      "Probabilities:  {'A': 0.5, 'B': 0.5}\n",
      "Classification: CORRECT\n",
      "----------------------------------------------------\n",
      "Data point:     [0.50265482 4.64955713]\n",
      "Label:          A\n",
      "Assigned:       B\n",
      "Probabilities:  {'A': 0.35, 'B': 0.65}\n",
      "Classification: INCORRECT\n",
      "----------------------------------------------------\n",
      "Data point:     [5.71769863 1.75929189]\n",
      "Label:          A\n",
      "Assigned:       A\n",
      "Probabilities:  {'A': 0.75, 'B': 0.25}\n",
      "Classification: CORRECT\n",
      "----------------------------------------------------\n",
      "Data point:     [1.63362818 2.89026524]\n",
      "Label:          A\n",
      "Assigned:       B\n",
      "Probabilities:  {'A': 0.01, 'B': 0.99}\n",
      "Classification: INCORRECT\n",
      "----------------------------------------------------\n",
      "Data point:     [3.89557489 3.14159265]\n",
      "Label:          A\n",
      "Assigned:       B\n",
      "Probabilities:  {'A': 0.12, 'B': 0.88}\n",
      "Classification: INCORRECT\n",
      "----------------------------------------------------\n",
      "Data point:     [2.76460154 4.08407045]\n",
      "Label:          A\n",
      "Assigned:       B\n",
      "Probabilities:  {'A': 0.25, 'B': 0.75}\n",
      "Classification: INCORRECT\n",
      "----------------------------------------------------\n",
      "Data point:     [0.18849556 0.43982297]\n",
      "Label:          B\n",
      "Assigned:       B\n",
      "Probabilities:  {'A': 0.48, 'B': 0.52}\n",
      "Classification: CORRECT\n",
      "----------------------------------------------------\n",
      "Data point:     [4.71238898 4.52389342]\n",
      "Label:          B\n",
      "Assigned:       A\n",
      "Probabilities:  {'A': 0.66, 'B': 0.34}\n",
      "Classification: INCORRECT\n",
      "----------------------------------------------------\n",
      "Data point:     [1.75929189 1.38230077]\n",
      "Label:          B\n",
      "Assigned:       A\n",
      "Probabilities:  {'A': 0.81, 'B': 0.19}\n",
      "Classification: INCORRECT\n",
      "----------------------------------------------------\n",
      "Data point:     [0.25132741 5.71769863]\n",
      "Label:          B\n",
      "Assigned:       B\n",
      "Probabilities:  {'A': 0.3, 'B': 0.7}\n",
      "Classification: CORRECT\n",
      "----------------------------------------------------\n",
      "Data point:     [0.25132741 5.71769863]\n",
      "Label:          B\n",
      "Assigned:       B\n",
      "Probabilities:  {'A': 0.36000000000000004, 'B': 0.64}\n",
      "Classification: CORRECT\n",
      "----------------------------------------------------\n",
      "Data point:     [1.69646003 5.27787566]\n",
      "Label:          B\n",
      "Assigned:       B\n",
      "Probabilities:  {'A': 0.38, 'B': 0.62}\n",
      "Classification: CORRECT\n",
      "----------------------------------------------------\n",
      "Data point:     [4.77522083 5.27787566]\n",
      "Label:          B\n",
      "Assigned:       B\n",
      "Probabilities:  {'A': 0.47, 'B': 0.53}\n",
      "Classification: CORRECT\n",
      "----------------------------------------------------\n",
      "Data point:     [2.26194671 4.39822972]\n",
      "Label:          B\n",
      "Assigned:       B\n",
      "Probabilities:  {'A': 0.44, 'B': 0.56}\n",
      "Classification: CORRECT\n",
      "----------------------------------------------------\n",
      "Data point:     [0.62831853 3.76991118]\n",
      "Label:          B\n",
      "Assigned:       B\n",
      "Probabilities:  {'A': 0.27, 'B': 0.73}\n",
      "Classification: CORRECT\n",
      "----------------------------------------------------\n",
      "Data point:     [1.0681415  1.75929189]\n",
      "Label:          B\n",
      "Assigned:       A\n",
      "Probabilities:  {'A': 0.71, 'B': 0.29000000000000004}\n",
      "Classification: INCORRECT\n",
      "\n",
      "55.00000000000001 % of the test data was correctly classified!\n"
     ]
    },
    {
     "data": {
      "image/png": "[encoded data removed]",
      "text/plain": [
       "<Figure size 432x288 with 1 Axes>"
      ]
     },
     "metadata": {
      "needs_background": "light"
     },
     "output_type": "display_data"
    }
   ],
   "source": [
    "# collect coordinates of test data\n",
    "test_label_0_x = [x[0] for x in test_input[class_labels[0]]]\n",
    "test_label_0_y = [x[1] for x in test_input[class_labels[0]]]\n",
    "test_label_1_x = [x[0] for x in test_input[class_labels[1]]]\n",
    "test_label_1_y = [x[1] for x in test_input[class_labels[1]]]\n",
    "\n",
    "# initialize lists for misclassified datapoints\n",
    "test_label_misclassified_x = []\n",
    "test_label_misclassified_y = []\n",
    "\n",
    "# evaluate test data\n",
    "for label, samples in test_input.items():\n",
    "    \n",
    "    # classify samples \n",
    "    results = classify(samples, opt_params, class_labels, depth, shots=shots)\n",
    "    \n",
    "    # analyze results\n",
    "    for i, result in enumerate(results):\n",
    "        \n",
    "        # assign label\n",
    "        assigned_label = class_labels[np.argmax([p for p in result.values()])]\n",
    "        print('----------------------------------------------------')\n",
    "        print('Data point:    ', samples[i])\n",
    "        print('Label:         ', label)\n",
    "        print('Assigned:      ', assigned_label)\n",
    "        print('Probabilities: ', result)\n",
    "        \n",
    "        if label != assigned_label:\n",
    "            print('Classification:', 'INCORRECT')\n",
    "            test_label_misclassified_x += [samples[i][0]]\n",
    "            test_label_misclassified_y += [samples[i][1]]\n",
    "        else:\n",
    "            print('Classification:', 'CORRECT')\n",
    "        \n",
    "# compute fraction of misclassified samples\n",
    "total = len(test_label_0_x) + len(test_label_1_x)\n",
    "num_misclassified = len(test_label_misclassified_x)\n",
    "print()\n",
    "print(100*(1-num_misclassified/total), \"% of the test data was correctly classified!\")\n",
    "\n",
    "# plot results\n",
    "plt.figure()\n",
    "plt.scatter(test_label_0_x, test_label_0_y, c='b', label=class_labels[0], linewidths=5)\n",
    "plt.scatter(test_label_1_x, test_label_1_y, c='g', label=class_labels[1], linewidths=5)\n",
    "plt.scatter(test_label_misclassified_x, test_label_misclassified_y, linewidths=20, s=1, facecolors='none', edgecolors='r')\n",
    "plt.legend()\n",
    "plt.show()"
   ]
  },
  {
   "cell_type": "code",
   "execution_count": null,
   "metadata": {},
   "outputs": [],
   "source": []
  }
 ],
 "metadata": {
  "kernelspec": {
   "display_name": "QiskitDevenv",
   "language": "python",
   "name": "qiskitdevenv"
  },
  "language_info": {
   "codemirror_mode": {
    "name": "ipython",
    "version": 3
   },
   "file_extension": ".py",
   "mimetype": "text/x-python",
   "name": "python",
   "nbconvert_exporter": "python",
   "pygments_lexer": "ipython3",
   "version": "3.7.3"
  }
 },
 "nbformat": 4,
 "nbformat_minor": 1
}
